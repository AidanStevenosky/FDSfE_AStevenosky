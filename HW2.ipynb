{
  "nbformat": 4,
  "nbformat_minor": 0,
  "metadata": {
    "colab": {
      "provenance": []
    },
    "kernelspec": {
      "name": "python3",
      "display_name": "Python 3"
    },
    "language_info": {
      "name": "python"
    }
  },
  "cells": [
    {
      "cell_type": "code",
      "execution_count": 31,
      "metadata": {
        "id": "klrGDazfz_m6"
      },
      "outputs": [],
      "source": [
        "# Import Packages\n",
        "import pandas as pd\n",
        "import pylab\n",
        "import numpy as np\n",
        "import matplotlib.pyplot as plt\n",
        "import seaborn as sns\n"
      ]
    },
    {
      "cell_type": "code",
      "source": [
        "# Reading the Phylly's park data from the URL baove\n",
        "pparks = pd.read_csv(\"http://data-phl.opendata.arcgis.com/datasets/d52445160ab14380a673e5849203eb64_0.csv\")"
      ],
      "metadata": {
        "id": "4zKdR0-h1MQG"
      },
      "execution_count": 32,
      "outputs": []
    },
    {
      "cell_type": "code",
      "source": [
        "# get the info and the statistical description of the dataframe\n",
        "pparks.info()\n"
      ],
      "metadata": {
        "colab": {
          "base_uri": "https://localhost:8080/"
        },
        "id": "XphPCcWb2edR",
        "outputId": "b37c8f18-3f75-4ce3-eb92-ed99d42407b3"
      },
      "execution_count": 33,
      "outputs": [
        {
          "output_type": "stream",
          "name": "stdout",
          "text": [
            "<class 'pandas.core.frame.DataFrame'>\n",
            "RangeIndex: 510 entries, 0 to 509\n",
            "Data columns (total 25 columns):\n",
            " #   Column                   Non-Null Count  Dtype  \n",
            "---  ------                   --------------  -----  \n",
            " 0   OBJECTID                 510 non-null    int64  \n",
            " 1   PUBLIC_NAME              510 non-null    object \n",
            " 2   PARENT_NAME              510 non-null    object \n",
            " 3   NESTED                   510 non-null    object \n",
            " 4   OFFICIAL_NAME            284 non-null    object \n",
            " 5   LABEL                    510 non-null    object \n",
            " 6   ALIAS                    353 non-null    object \n",
            " 7   DPP_ASSET_ID             510 non-null    int64  \n",
            " 8   ADDRESS_911              502 non-null    object \n",
            " 9   ZIP_CODE                 510 non-null    int64  \n",
            " 10  ADDRESS_BRT              429 non-null    object \n",
            " 11  ALIAS_ADDRESS            426 non-null    object \n",
            " 12  ACREAGE                  510 non-null    float64\n",
            " 13  PROPERTY_CLASSIFICATION  510 non-null    object \n",
            " 14  PPR_USE                  510 non-null    object \n",
            " 15  PPR_DISTRICT             0 non-null      float64\n",
            " 16  PPR_OPS_DISTRICT         510 non-null    object \n",
            " 17  COUNCIL_DISTRICT         509 non-null    object \n",
            " 18  POLICE_DISTRICT          509 non-null    object \n",
            " 19  CITY_SCALE_MAPS          510 non-null    object \n",
            " 20  LOCAL_SCALE_MAPS         510 non-null    object \n",
            " 21  PROGRAM_SITES            510 non-null    object \n",
            " 22  COMMENTS                 146 non-null    object \n",
            " 23  Shape__Area              510 non-null    float64\n",
            " 24  Shape__Length            510 non-null    float64\n",
            "dtypes: float64(4), int64(3), object(18)\n",
            "memory usage: 99.7+ KB\n"
          ]
        }
      ]
    },
    {
      "cell_type": "code",
      "source": [
        "# show the shape of the parks file dataframe\n",
        "(517,25)"
      ],
      "metadata": {
        "colab": {
          "base_uri": "https://localhost:8080/"
        },
        "id": "DwHgpQdw29al",
        "outputId": "0a89a64c-013a-477f-996e-3aa005672889"
      },
      "execution_count": 34,
      "outputs": [
        {
          "output_type": "execute_result",
          "data": {
            "text/plain": [
              "(517, 25)"
            ]
          },
          "metadata": {},
          "execution_count": 34
        }
      ]
    },
    {
      "cell_type": "code",
      "source": [
        "# show the column names in the dataframe\n",
        "pparks.columns"
      ],
      "metadata": {
        "colab": {
          "base_uri": "https://localhost:8080/"
        },
        "id": "WLTQzxLPsBdu",
        "outputId": "4a8874c2-6f5f-463b-f3b2-e2142f27aaee"
      },
      "execution_count": 35,
      "outputs": [
        {
          "output_type": "execute_result",
          "data": {
            "text/plain": [
              "Index(['OBJECTID', 'PUBLIC_NAME', 'PARENT_NAME', 'NESTED', 'OFFICIAL_NAME',\n",
              "       'LABEL', 'ALIAS', 'DPP_ASSET_ID', 'ADDRESS_911', 'ZIP_CODE',\n",
              "       'ADDRESS_BRT', 'ALIAS_ADDRESS', 'ACREAGE', 'PROPERTY_CLASSIFICATION',\n",
              "       'PPR_USE', 'PPR_DISTRICT', 'PPR_OPS_DISTRICT', 'COUNCIL_DISTRICT',\n",
              "       'POLICE_DISTRICT', 'CITY_SCALE_MAPS', 'LOCAL_SCALE_MAPS',\n",
              "       'PROGRAM_SITES', 'COMMENTS', 'Shape__Area', 'Shape__Length'],\n",
              "      dtype='object')"
            ]
          },
          "metadata": {},
          "execution_count": 35
        }
      ]
    },
    {
      "cell_type": "code",
      "source": [
        "# show the beginning of the dataframe (the first 5 rows)\n",
        "pparks.head()"
      ],
      "metadata": {
        "colab": {
          "base_uri": "https://localhost:8080/",
          "height": 629
        },
        "id": "_Ltc-i6mt70V",
        "outputId": "60cbbf06-8b1a-49c8-dab3-6f5e6b9297e4"
      },
      "execution_count": 36,
      "outputs": [
        {
          "output_type": "execute_result",
          "data": {
            "text/plain": [
              "   OBJECTID                                     PUBLIC_NAME  \\\n",
              "0         1  William H (Billy) Markward Memorial Playground   \n",
              "1         2                                Schuylkill Banks   \n",
              "2         3                           Schuylkill River Park   \n",
              "3         4                           Frankford Boat Launch   \n",
              "4         5                            Orthodox Street Park   \n",
              "\n",
              "             PARENT_NAME NESTED  \\\n",
              "0  Schuylkill River Park      Y   \n",
              "1       Schuylkill Banks      N   \n",
              "2  Schuylkill River Park      N   \n",
              "3  Frankford Boat Launch      N   \n",
              "4   Orthodox Street Park      N   \n",
              "\n",
              "                                     OFFICIAL_NAME                  LABEL  \\\n",
              "0  William H. (Billy) Markward Memorial Playground               Markward   \n",
              "1                                              NaN       Schuylkill Banks   \n",
              "2                                              NaN  Schuylkill River Park   \n",
              "3                            Frankford Boat Launch       Frankford Launch   \n",
              "4                                              NaN               Orthodox   \n",
              "\n",
              "                                               ALIAS  DPP_ASSET_ID  \\\n",
              "0                                                NaN          1903   \n",
              "1                              Schuylkill River Park          2794   \n",
              "2                                                NaN          2992   \n",
              "3       PA Fish & Boat;Frankford Arsenal Boat Launch          3090   \n",
              "4  Orthodox Street Parcel; Bridesburg Riverfront ...          3091   \n",
              "\n",
              "        ADDRESS_911  ZIP_CODE  ... PPR_DISTRICT PPR_OPS_DISTRICT  \\\n",
              "0    400 S TANEY ST     19146  ...          NaN             5, 7   \n",
              "1    400 S TANEY ST     19103  ...          NaN             5, 7   \n",
              "2    400 S TANEY ST     19146  ...          NaN             5, 7   \n",
              "3    5625 TACONY ST     19137  ...          NaN                2   \n",
              "4  3101 ORTHODOX ST     19137  ...          NaN                2   \n",
              "\n",
              "   COUNCIL_DISTRICT POLICE_DISTRICT CITY_SCALE_MAPS  LOCAL_SCALE_MAPS  \\\n",
              "0                 2               9               Y                 Y   \n",
              "1              2, 5           9, 17               Y                 Y   \n",
              "2                 2               9               Y                 Y   \n",
              "3                 6              15               Y                 Y   \n",
              "4                 6              15               N                 N   \n",
              "\n",
              "  PROGRAM_SITES                                           COMMENTS  \\\n",
              "0             Y                                                NaN   \n",
              "1             N    Bill 160113 (4/14/16) -South of South St Bridge   \n",
              "2             Y                                                NaN   \n",
              "3             N                                                NaN   \n",
              "4             N  Officially acquired from PAID in 10/2019. Doc ...   \n",
              "\n",
              "     Shape__Area Shape__Length  \n",
              "0   23295.664062    892.868012  \n",
              "1  101477.171875   9300.670275  \n",
              "2   27216.929688    799.048584  \n",
              "3   78515.335938   1585.376114  \n",
              "4   72926.187500   1304.901416  \n",
              "\n",
              "[5 rows x 25 columns]"
            ],
            "text/html": [
              "\n",
              "  <div id=\"df-62312157-c16e-40e6-8b48-d3e3f99d01e7\">\n",
              "    <div class=\"colab-df-container\">\n",
              "      <div>\n",
              "<style scoped>\n",
              "    .dataframe tbody tr th:only-of-type {\n",
              "        vertical-align: middle;\n",
              "    }\n",
              "\n",
              "    .dataframe tbody tr th {\n",
              "        vertical-align: top;\n",
              "    }\n",
              "\n",
              "    .dataframe thead th {\n",
              "        text-align: right;\n",
              "    }\n",
              "</style>\n",
              "<table border=\"1\" class=\"dataframe\">\n",
              "  <thead>\n",
              "    <tr style=\"text-align: right;\">\n",
              "      <th></th>\n",
              "      <th>OBJECTID</th>\n",
              "      <th>PUBLIC_NAME</th>\n",
              "      <th>PARENT_NAME</th>\n",
              "      <th>NESTED</th>\n",
              "      <th>OFFICIAL_NAME</th>\n",
              "      <th>LABEL</th>\n",
              "      <th>ALIAS</th>\n",
              "      <th>DPP_ASSET_ID</th>\n",
              "      <th>ADDRESS_911</th>\n",
              "      <th>ZIP_CODE</th>\n",
              "      <th>...</th>\n",
              "      <th>PPR_DISTRICT</th>\n",
              "      <th>PPR_OPS_DISTRICT</th>\n",
              "      <th>COUNCIL_DISTRICT</th>\n",
              "      <th>POLICE_DISTRICT</th>\n",
              "      <th>CITY_SCALE_MAPS</th>\n",
              "      <th>LOCAL_SCALE_MAPS</th>\n",
              "      <th>PROGRAM_SITES</th>\n",
              "      <th>COMMENTS</th>\n",
              "      <th>Shape__Area</th>\n",
              "      <th>Shape__Length</th>\n",
              "    </tr>\n",
              "  </thead>\n",
              "  <tbody>\n",
              "    <tr>\n",
              "      <th>0</th>\n",
              "      <td>1</td>\n",
              "      <td>William H (Billy) Markward Memorial Playground</td>\n",
              "      <td>Schuylkill River Park</td>\n",
              "      <td>Y</td>\n",
              "      <td>William H. (Billy) Markward Memorial Playground</td>\n",
              "      <td>Markward</td>\n",
              "      <td>NaN</td>\n",
              "      <td>1903</td>\n",
              "      <td>400 S TANEY ST</td>\n",
              "      <td>19146</td>\n",
              "      <td>...</td>\n",
              "      <td>NaN</td>\n",
              "      <td>5, 7</td>\n",
              "      <td>2</td>\n",
              "      <td>9</td>\n",
              "      <td>Y</td>\n",
              "      <td>Y</td>\n",
              "      <td>Y</td>\n",
              "      <td>NaN</td>\n",
              "      <td>23295.664062</td>\n",
              "      <td>892.868012</td>\n",
              "    </tr>\n",
              "    <tr>\n",
              "      <th>1</th>\n",
              "      <td>2</td>\n",
              "      <td>Schuylkill Banks</td>\n",
              "      <td>Schuylkill Banks</td>\n",
              "      <td>N</td>\n",
              "      <td>NaN</td>\n",
              "      <td>Schuylkill Banks</td>\n",
              "      <td>Schuylkill River Park</td>\n",
              "      <td>2794</td>\n",
              "      <td>400 S TANEY ST</td>\n",
              "      <td>19103</td>\n",
              "      <td>...</td>\n",
              "      <td>NaN</td>\n",
              "      <td>5, 7</td>\n",
              "      <td>2, 5</td>\n",
              "      <td>9, 17</td>\n",
              "      <td>Y</td>\n",
              "      <td>Y</td>\n",
              "      <td>N</td>\n",
              "      <td>Bill 160113 (4/14/16) -South of South St Bridge</td>\n",
              "      <td>101477.171875</td>\n",
              "      <td>9300.670275</td>\n",
              "    </tr>\n",
              "    <tr>\n",
              "      <th>2</th>\n",
              "      <td>3</td>\n",
              "      <td>Schuylkill River Park</td>\n",
              "      <td>Schuylkill River Park</td>\n",
              "      <td>N</td>\n",
              "      <td>NaN</td>\n",
              "      <td>Schuylkill River Park</td>\n",
              "      <td>NaN</td>\n",
              "      <td>2992</td>\n",
              "      <td>400 S TANEY ST</td>\n",
              "      <td>19146</td>\n",
              "      <td>...</td>\n",
              "      <td>NaN</td>\n",
              "      <td>5, 7</td>\n",
              "      <td>2</td>\n",
              "      <td>9</td>\n",
              "      <td>Y</td>\n",
              "      <td>Y</td>\n",
              "      <td>Y</td>\n",
              "      <td>NaN</td>\n",
              "      <td>27216.929688</td>\n",
              "      <td>799.048584</td>\n",
              "    </tr>\n",
              "    <tr>\n",
              "      <th>3</th>\n",
              "      <td>4</td>\n",
              "      <td>Frankford Boat Launch</td>\n",
              "      <td>Frankford Boat Launch</td>\n",
              "      <td>N</td>\n",
              "      <td>Frankford Boat Launch</td>\n",
              "      <td>Frankford Launch</td>\n",
              "      <td>PA Fish &amp; Boat;Frankford Arsenal Boat Launch</td>\n",
              "      <td>3090</td>\n",
              "      <td>5625 TACONY ST</td>\n",
              "      <td>19137</td>\n",
              "      <td>...</td>\n",
              "      <td>NaN</td>\n",
              "      <td>2</td>\n",
              "      <td>6</td>\n",
              "      <td>15</td>\n",
              "      <td>Y</td>\n",
              "      <td>Y</td>\n",
              "      <td>N</td>\n",
              "      <td>NaN</td>\n",
              "      <td>78515.335938</td>\n",
              "      <td>1585.376114</td>\n",
              "    </tr>\n",
              "    <tr>\n",
              "      <th>4</th>\n",
              "      <td>5</td>\n",
              "      <td>Orthodox Street Park</td>\n",
              "      <td>Orthodox Street Park</td>\n",
              "      <td>N</td>\n",
              "      <td>NaN</td>\n",
              "      <td>Orthodox</td>\n",
              "      <td>Orthodox Street Parcel; Bridesburg Riverfront ...</td>\n",
              "      <td>3091</td>\n",
              "      <td>3101 ORTHODOX ST</td>\n",
              "      <td>19137</td>\n",
              "      <td>...</td>\n",
              "      <td>NaN</td>\n",
              "      <td>2</td>\n",
              "      <td>6</td>\n",
              "      <td>15</td>\n",
              "      <td>N</td>\n",
              "      <td>N</td>\n",
              "      <td>N</td>\n",
              "      <td>Officially acquired from PAID in 10/2019. Doc ...</td>\n",
              "      <td>72926.187500</td>\n",
              "      <td>1304.901416</td>\n",
              "    </tr>\n",
              "  </tbody>\n",
              "</table>\n",
              "<p>5 rows × 25 columns</p>\n",
              "</div>\n",
              "      <button class=\"colab-df-convert\" onclick=\"convertToInteractive('df-62312157-c16e-40e6-8b48-d3e3f99d01e7')\"\n",
              "              title=\"Convert this dataframe to an interactive table.\"\n",
              "              style=\"display:none;\">\n",
              "        \n",
              "  <svg xmlns=\"http://www.w3.org/2000/svg\" height=\"24px\"viewBox=\"0 0 24 24\"\n",
              "       width=\"24px\">\n",
              "    <path d=\"M0 0h24v24H0V0z\" fill=\"none\"/>\n",
              "    <path d=\"M18.56 5.44l.94 2.06.94-2.06 2.06-.94-2.06-.94-.94-2.06-.94 2.06-2.06.94zm-11 1L8.5 8.5l.94-2.06 2.06-.94-2.06-.94L8.5 2.5l-.94 2.06-2.06.94zm10 10l.94 2.06.94-2.06 2.06-.94-2.06-.94-.94-2.06-.94 2.06-2.06.94z\"/><path d=\"M17.41 7.96l-1.37-1.37c-.4-.4-.92-.59-1.43-.59-.52 0-1.04.2-1.43.59L10.3 9.45l-7.72 7.72c-.78.78-.78 2.05 0 2.83L4 21.41c.39.39.9.59 1.41.59.51 0 1.02-.2 1.41-.59l7.78-7.78 2.81-2.81c.8-.78.8-2.07 0-2.86zM5.41 20L4 18.59l7.72-7.72 1.47 1.35L5.41 20z\"/>\n",
              "  </svg>\n",
              "      </button>\n",
              "      \n",
              "  <style>\n",
              "    .colab-df-container {\n",
              "      display:flex;\n",
              "      flex-wrap:wrap;\n",
              "      gap: 12px;\n",
              "    }\n",
              "\n",
              "    .colab-df-convert {\n",
              "      background-color: #E8F0FE;\n",
              "      border: none;\n",
              "      border-radius: 50%;\n",
              "      cursor: pointer;\n",
              "      display: none;\n",
              "      fill: #1967D2;\n",
              "      height: 32px;\n",
              "      padding: 0 0 0 0;\n",
              "      width: 32px;\n",
              "    }\n",
              "\n",
              "    .colab-df-convert:hover {\n",
              "      background-color: #E2EBFA;\n",
              "      box-shadow: 0px 1px 2px rgba(60, 64, 67, 0.3), 0px 1px 3px 1px rgba(60, 64, 67, 0.15);\n",
              "      fill: #174EA6;\n",
              "    }\n",
              "\n",
              "    [theme=dark] .colab-df-convert {\n",
              "      background-color: #3B4455;\n",
              "      fill: #D2E3FC;\n",
              "    }\n",
              "\n",
              "    [theme=dark] .colab-df-convert:hover {\n",
              "      background-color: #434B5C;\n",
              "      box-shadow: 0px 1px 3px 1px rgba(0, 0, 0, 0.15);\n",
              "      filter: drop-shadow(0px 1px 2px rgba(0, 0, 0, 0.3));\n",
              "      fill: #FFFFFF;\n",
              "    }\n",
              "  </style>\n",
              "\n",
              "      <script>\n",
              "        const buttonEl =\n",
              "          document.querySelector('#df-62312157-c16e-40e6-8b48-d3e3f99d01e7 button.colab-df-convert');\n",
              "        buttonEl.style.display =\n",
              "          google.colab.kernel.accessAllowed ? 'block' : 'none';\n",
              "\n",
              "        async function convertToInteractive(key) {\n",
              "          const element = document.querySelector('#df-62312157-c16e-40e6-8b48-d3e3f99d01e7');\n",
              "          const dataTable =\n",
              "            await google.colab.kernel.invokeFunction('convertToInteractive',\n",
              "                                                     [key], {});\n",
              "          if (!dataTable) return;\n",
              "\n",
              "          const docLinkHtml = 'Like what you see? Visit the ' +\n",
              "            '<a target=\"_blank\" href=https://colab.research.google.com/notebooks/data_table.ipynb>data table notebook</a>'\n",
              "            + ' to learn more about interactive tables.';\n",
              "          element.innerHTML = '';\n",
              "          dataTable['output_type'] = 'display_data';\n",
              "          await google.colab.output.renderOutput(dataTable, element);\n",
              "          const docLink = document.createElement('div');\n",
              "          docLink.innerHTML = docLinkHtml;\n",
              "          element.appendChild(docLink);\n",
              "        }\n",
              "      </script>\n",
              "    </div>\n",
              "  </div>\n",
              "  "
            ]
          },
          "metadata": {},
          "execution_count": 36
        }
      ]
    },
    {
      "cell_type": "code",
      "source": [
        "# show the end of the dataframe (the last 5 rows)\n",
        "pparks.tail()"
      ],
      "metadata": {
        "colab": {
          "base_uri": "https://localhost:8080/",
          "height": 629
        },
        "id": "XbFU-Xeluxqe",
        "outputId": "891a1c8d-ca68-4224-e6f1-d47d995232ba"
      },
      "execution_count": 37,
      "outputs": [
        {
          "output_type": "execute_result",
          "data": {
            "text/plain": [
              "     OBJECTID                               PUBLIC_NAME  \\\n",
              "505       506  Officer Robert Hayes Memorial Playground   \n",
              "506       507                 Benjamin Franklin Parkway   \n",
              "507       508                    Winter Street Greenway   \n",
              "508       509                 61st and Cobbs Creek Park   \n",
              "509       510                 Lawrence Court Breezeways   \n",
              "\n",
              "                                  PARENT_NAME NESTED  \\\n",
              "505  Officer Robert Hayes Memorial Playground      N   \n",
              "506                 Benjamin Franklin Parkway      N   \n",
              "507                 Benjamin Franklin Parkway      Y   \n",
              "508                          Cobbs Creek Park      Y   \n",
              "509                 Lawrence Court Breezeways      N   \n",
              "\n",
              "                                OFFICIAL_NAME                   LABEL  \\\n",
              "505  Officer Robert Hayes Memorial Playground                   Hayes   \n",
              "506                 Benjamin Franklin Parkway  Benjamin Franklin Pkwy   \n",
              "507                                       NaN         Winter Greenway   \n",
              "508                                       NaN    61st and Cobbs Creek   \n",
              "509                                       NaN      Lawrence Breezeway   \n",
              "\n",
              "                                                 ALIAS  DPP_ASSET_ID  \\\n",
              "505                              Swenson Park, Conwell          1923   \n",
              "506                                        The Parkway          1226   \n",
              "507  Rob Stuart Memorial Dog Park; Winter Street Gr...             0   \n",
              "508                                                             3481   \n",
              "509                            Lawrence Court Walkways          3867   \n",
              "\n",
              "            ADDRESS_911  ZIP_CODE  ... PPR_DISTRICT PPR_OPS_DISTRICT  \\\n",
              "505   9949 PRESIDENT ST     19115  ...          NaN                1   \n",
              "506   BENJ FRANKLIN PKY         0  ...          NaN                5   \n",
              "507   BENJ FRANKLIN PKY         0  ...          NaN                5   \n",
              "508  61ST & COBBS CREEK     19143  ...          NaN                8   \n",
              "509     335 LAWRENCE CT     19106  ...          NaN                5   \n",
              "\n",
              "     COUNCIL_DISTRICT POLICE_DISTRICT CITY_SCALE_MAPS  LOCAL_SCALE_MAPS  \\\n",
              "505                10               7               Y                 Y   \n",
              "506                 5               9               Y                 Y   \n",
              "507                 5               9               N                 Y   \n",
              "508                 3              18               Y                 Y   \n",
              "509                 1               6               N                 Y   \n",
              "\n",
              "    PROGRAM_SITES                                           COMMENTS  \\\n",
              "505             Y                                                NaN   \n",
              "506             N  22nd and Hamilton 'wedge' added (Street Legal ...   \n",
              "507             N  Named in 2021. Winter (21st-22nd) has a dog pa...   \n",
              "508             Y                                                NaN   \n",
              "509             N                                                NaN   \n",
              "\n",
              "       Shape__Area Shape__Length  \n",
              "505  139660.027344   1698.902277  \n",
              "506  103066.453125   9195.466911  \n",
              "507    5386.812500    679.857371  \n",
              "508   35596.937500   1037.395645  \n",
              "509    1945.863281    394.259401  \n",
              "\n",
              "[5 rows x 25 columns]"
            ],
            "text/html": [
              "\n",
              "  <div id=\"df-318146d6-533d-4021-b4e2-6a9aded8f340\">\n",
              "    <div class=\"colab-df-container\">\n",
              "      <div>\n",
              "<style scoped>\n",
              "    .dataframe tbody tr th:only-of-type {\n",
              "        vertical-align: middle;\n",
              "    }\n",
              "\n",
              "    .dataframe tbody tr th {\n",
              "        vertical-align: top;\n",
              "    }\n",
              "\n",
              "    .dataframe thead th {\n",
              "        text-align: right;\n",
              "    }\n",
              "</style>\n",
              "<table border=\"1\" class=\"dataframe\">\n",
              "  <thead>\n",
              "    <tr style=\"text-align: right;\">\n",
              "      <th></th>\n",
              "      <th>OBJECTID</th>\n",
              "      <th>PUBLIC_NAME</th>\n",
              "      <th>PARENT_NAME</th>\n",
              "      <th>NESTED</th>\n",
              "      <th>OFFICIAL_NAME</th>\n",
              "      <th>LABEL</th>\n",
              "      <th>ALIAS</th>\n",
              "      <th>DPP_ASSET_ID</th>\n",
              "      <th>ADDRESS_911</th>\n",
              "      <th>ZIP_CODE</th>\n",
              "      <th>...</th>\n",
              "      <th>PPR_DISTRICT</th>\n",
              "      <th>PPR_OPS_DISTRICT</th>\n",
              "      <th>COUNCIL_DISTRICT</th>\n",
              "      <th>POLICE_DISTRICT</th>\n",
              "      <th>CITY_SCALE_MAPS</th>\n",
              "      <th>LOCAL_SCALE_MAPS</th>\n",
              "      <th>PROGRAM_SITES</th>\n",
              "      <th>COMMENTS</th>\n",
              "      <th>Shape__Area</th>\n",
              "      <th>Shape__Length</th>\n",
              "    </tr>\n",
              "  </thead>\n",
              "  <tbody>\n",
              "    <tr>\n",
              "      <th>505</th>\n",
              "      <td>506</td>\n",
              "      <td>Officer Robert Hayes Memorial Playground</td>\n",
              "      <td>Officer Robert Hayes Memorial Playground</td>\n",
              "      <td>N</td>\n",
              "      <td>Officer Robert Hayes Memorial Playground</td>\n",
              "      <td>Hayes</td>\n",
              "      <td>Swenson Park, Conwell</td>\n",
              "      <td>1923</td>\n",
              "      <td>9949 PRESIDENT ST</td>\n",
              "      <td>19115</td>\n",
              "      <td>...</td>\n",
              "      <td>NaN</td>\n",
              "      <td>1</td>\n",
              "      <td>10</td>\n",
              "      <td>7</td>\n",
              "      <td>Y</td>\n",
              "      <td>Y</td>\n",
              "      <td>Y</td>\n",
              "      <td>NaN</td>\n",
              "      <td>139660.027344</td>\n",
              "      <td>1698.902277</td>\n",
              "    </tr>\n",
              "    <tr>\n",
              "      <th>506</th>\n",
              "      <td>507</td>\n",
              "      <td>Benjamin Franklin Parkway</td>\n",
              "      <td>Benjamin Franklin Parkway</td>\n",
              "      <td>N</td>\n",
              "      <td>Benjamin Franklin Parkway</td>\n",
              "      <td>Benjamin Franklin Pkwy</td>\n",
              "      <td>The Parkway</td>\n",
              "      <td>1226</td>\n",
              "      <td>BENJ FRANKLIN PKY</td>\n",
              "      <td>0</td>\n",
              "      <td>...</td>\n",
              "      <td>NaN</td>\n",
              "      <td>5</td>\n",
              "      <td>5</td>\n",
              "      <td>9</td>\n",
              "      <td>Y</td>\n",
              "      <td>Y</td>\n",
              "      <td>N</td>\n",
              "      <td>22nd and Hamilton 'wedge' added (Street Legal ...</td>\n",
              "      <td>103066.453125</td>\n",
              "      <td>9195.466911</td>\n",
              "    </tr>\n",
              "    <tr>\n",
              "      <th>507</th>\n",
              "      <td>508</td>\n",
              "      <td>Winter Street Greenway</td>\n",
              "      <td>Benjamin Franklin Parkway</td>\n",
              "      <td>Y</td>\n",
              "      <td>NaN</td>\n",
              "      <td>Winter Greenway</td>\n",
              "      <td>Rob Stuart Memorial Dog Park; Winter Street Gr...</td>\n",
              "      <td>0</td>\n",
              "      <td>BENJ FRANKLIN PKY</td>\n",
              "      <td>0</td>\n",
              "      <td>...</td>\n",
              "      <td>NaN</td>\n",
              "      <td>5</td>\n",
              "      <td>5</td>\n",
              "      <td>9</td>\n",
              "      <td>N</td>\n",
              "      <td>Y</td>\n",
              "      <td>N</td>\n",
              "      <td>Named in 2021. Winter (21st-22nd) has a dog pa...</td>\n",
              "      <td>5386.812500</td>\n",
              "      <td>679.857371</td>\n",
              "    </tr>\n",
              "    <tr>\n",
              "      <th>508</th>\n",
              "      <td>509</td>\n",
              "      <td>61st and Cobbs Creek Park</td>\n",
              "      <td>Cobbs Creek Park</td>\n",
              "      <td>Y</td>\n",
              "      <td>NaN</td>\n",
              "      <td>61st and Cobbs Creek</td>\n",
              "      <td></td>\n",
              "      <td>3481</td>\n",
              "      <td>61ST &amp; COBBS CREEK</td>\n",
              "      <td>19143</td>\n",
              "      <td>...</td>\n",
              "      <td>NaN</td>\n",
              "      <td>8</td>\n",
              "      <td>3</td>\n",
              "      <td>18</td>\n",
              "      <td>Y</td>\n",
              "      <td>Y</td>\n",
              "      <td>Y</td>\n",
              "      <td>NaN</td>\n",
              "      <td>35596.937500</td>\n",
              "      <td>1037.395645</td>\n",
              "    </tr>\n",
              "    <tr>\n",
              "      <th>509</th>\n",
              "      <td>510</td>\n",
              "      <td>Lawrence Court Breezeways</td>\n",
              "      <td>Lawrence Court Breezeways</td>\n",
              "      <td>N</td>\n",
              "      <td>NaN</td>\n",
              "      <td>Lawrence Breezeway</td>\n",
              "      <td>Lawrence Court Walkways</td>\n",
              "      <td>3867</td>\n",
              "      <td>335 LAWRENCE CT</td>\n",
              "      <td>19106</td>\n",
              "      <td>...</td>\n",
              "      <td>NaN</td>\n",
              "      <td>5</td>\n",
              "      <td>1</td>\n",
              "      <td>6</td>\n",
              "      <td>N</td>\n",
              "      <td>Y</td>\n",
              "      <td>N</td>\n",
              "      <td>NaN</td>\n",
              "      <td>1945.863281</td>\n",
              "      <td>394.259401</td>\n",
              "    </tr>\n",
              "  </tbody>\n",
              "</table>\n",
              "<p>5 rows × 25 columns</p>\n",
              "</div>\n",
              "      <button class=\"colab-df-convert\" onclick=\"convertToInteractive('df-318146d6-533d-4021-b4e2-6a9aded8f340')\"\n",
              "              title=\"Convert this dataframe to an interactive table.\"\n",
              "              style=\"display:none;\">\n",
              "        \n",
              "  <svg xmlns=\"http://www.w3.org/2000/svg\" height=\"24px\"viewBox=\"0 0 24 24\"\n",
              "       width=\"24px\">\n",
              "    <path d=\"M0 0h24v24H0V0z\" fill=\"none\"/>\n",
              "    <path d=\"M18.56 5.44l.94 2.06.94-2.06 2.06-.94-2.06-.94-.94-2.06-.94 2.06-2.06.94zm-11 1L8.5 8.5l.94-2.06 2.06-.94-2.06-.94L8.5 2.5l-.94 2.06-2.06.94zm10 10l.94 2.06.94-2.06 2.06-.94-2.06-.94-.94-2.06-.94 2.06-2.06.94z\"/><path d=\"M17.41 7.96l-1.37-1.37c-.4-.4-.92-.59-1.43-.59-.52 0-1.04.2-1.43.59L10.3 9.45l-7.72 7.72c-.78.78-.78 2.05 0 2.83L4 21.41c.39.39.9.59 1.41.59.51 0 1.02-.2 1.41-.59l7.78-7.78 2.81-2.81c.8-.78.8-2.07 0-2.86zM5.41 20L4 18.59l7.72-7.72 1.47 1.35L5.41 20z\"/>\n",
              "  </svg>\n",
              "      </button>\n",
              "      \n",
              "  <style>\n",
              "    .colab-df-container {\n",
              "      display:flex;\n",
              "      flex-wrap:wrap;\n",
              "      gap: 12px;\n",
              "    }\n",
              "\n",
              "    .colab-df-convert {\n",
              "      background-color: #E8F0FE;\n",
              "      border: none;\n",
              "      border-radius: 50%;\n",
              "      cursor: pointer;\n",
              "      display: none;\n",
              "      fill: #1967D2;\n",
              "      height: 32px;\n",
              "      padding: 0 0 0 0;\n",
              "      width: 32px;\n",
              "    }\n",
              "\n",
              "    .colab-df-convert:hover {\n",
              "      background-color: #E2EBFA;\n",
              "      box-shadow: 0px 1px 2px rgba(60, 64, 67, 0.3), 0px 1px 3px 1px rgba(60, 64, 67, 0.15);\n",
              "      fill: #174EA6;\n",
              "    }\n",
              "\n",
              "    [theme=dark] .colab-df-convert {\n",
              "      background-color: #3B4455;\n",
              "      fill: #D2E3FC;\n",
              "    }\n",
              "\n",
              "    [theme=dark] .colab-df-convert:hover {\n",
              "      background-color: #434B5C;\n",
              "      box-shadow: 0px 1px 3px 1px rgba(0, 0, 0, 0.15);\n",
              "      filter: drop-shadow(0px 1px 2px rgba(0, 0, 0, 0.3));\n",
              "      fill: #FFFFFF;\n",
              "    }\n",
              "  </style>\n",
              "\n",
              "      <script>\n",
              "        const buttonEl =\n",
              "          document.querySelector('#df-318146d6-533d-4021-b4e2-6a9aded8f340 button.colab-df-convert');\n",
              "        buttonEl.style.display =\n",
              "          google.colab.kernel.accessAllowed ? 'block' : 'none';\n",
              "\n",
              "        async function convertToInteractive(key) {\n",
              "          const element = document.querySelector('#df-318146d6-533d-4021-b4e2-6a9aded8f340');\n",
              "          const dataTable =\n",
              "            await google.colab.kernel.invokeFunction('convertToInteractive',\n",
              "                                                     [key], {});\n",
              "          if (!dataTable) return;\n",
              "\n",
              "          const docLinkHtml = 'Like what you see? Visit the ' +\n",
              "            '<a target=\"_blank\" href=https://colab.research.google.com/notebooks/data_table.ipynb>data table notebook</a>'\n",
              "            + ' to learn more about interactive tables.';\n",
              "          element.innerHTML = '';\n",
              "          dataTable['output_type'] = 'display_data';\n",
              "          await google.colab.output.renderOutput(dataTable, element);\n",
              "          const docLink = document.createElement('div');\n",
              "          docLink.innerHTML = docLinkHtml;\n",
              "          element.appendChild(docLink);\n",
              "        }\n",
              "      </script>\n",
              "    </div>\n",
              "  </div>\n",
              "  "
            ]
          },
          "metadata": {},
          "execution_count": 37
        }
      ]
    },
    {
      "cell_type": "code",
      "source": [
        "pparks.shape"
      ],
      "metadata": {
        "colab": {
          "base_uri": "https://localhost:8080/"
        },
        "id": "-n2M_ztTv0-k",
        "outputId": "c196dbaf-4843-4ea1-db12-d83033514a1a"
      },
      "execution_count": 38,
      "outputs": [
        {
          "output_type": "execute_result",
          "data": {
            "text/plain": [
              "(510, 25)"
            ]
          },
          "metadata": {},
          "execution_count": 38
        }
      ]
    },
    {
      "cell_type": "code",
      "source": [
        "pparks.describe"
      ],
      "metadata": {
        "colab": {
          "base_uri": "https://localhost:8080/"
        },
        "id": "S_qqiBEbv-Qv",
        "outputId": "e45ae2bf-8ac8-49ff-82ad-60c54e11b73e"
      },
      "execution_count": 39,
      "outputs": [
        {
          "output_type": "execute_result",
          "data": {
            "text/plain": [
              "<bound method NDFrame.describe of      OBJECTID                                     PUBLIC_NAME  \\\n",
              "0           1  William H (Billy) Markward Memorial Playground   \n",
              "1           2                                Schuylkill Banks   \n",
              "2           3                           Schuylkill River Park   \n",
              "3           4                           Frankford Boat Launch   \n",
              "4           5                            Orthodox Street Park   \n",
              "..        ...                                             ...   \n",
              "505       506        Officer Robert Hayes Memorial Playground   \n",
              "506       507                       Benjamin Franklin Parkway   \n",
              "507       508                          Winter Street Greenway   \n",
              "508       509                       61st and Cobbs Creek Park   \n",
              "509       510                       Lawrence Court Breezeways   \n",
              "\n",
              "                                  PARENT_NAME NESTED  \\\n",
              "0                       Schuylkill River Park      Y   \n",
              "1                            Schuylkill Banks      N   \n",
              "2                       Schuylkill River Park      N   \n",
              "3                       Frankford Boat Launch      N   \n",
              "4                        Orthodox Street Park      N   \n",
              "..                                        ...    ...   \n",
              "505  Officer Robert Hayes Memorial Playground      N   \n",
              "506                 Benjamin Franklin Parkway      N   \n",
              "507                 Benjamin Franklin Parkway      Y   \n",
              "508                          Cobbs Creek Park      Y   \n",
              "509                 Lawrence Court Breezeways      N   \n",
              "\n",
              "                                       OFFICIAL_NAME                   LABEL  \\\n",
              "0    William H. (Billy) Markward Memorial Playground                Markward   \n",
              "1                                                NaN        Schuylkill Banks   \n",
              "2                                                NaN   Schuylkill River Park   \n",
              "3                              Frankford Boat Launch        Frankford Launch   \n",
              "4                                                NaN                Orthodox   \n",
              "..                                               ...                     ...   \n",
              "505         Officer Robert Hayes Memorial Playground                   Hayes   \n",
              "506                        Benjamin Franklin Parkway  Benjamin Franklin Pkwy   \n",
              "507                                              NaN         Winter Greenway   \n",
              "508                                              NaN    61st and Cobbs Creek   \n",
              "509                                              NaN      Lawrence Breezeway   \n",
              "\n",
              "                                                 ALIAS  DPP_ASSET_ID  \\\n",
              "0                                                  NaN          1903   \n",
              "1                                Schuylkill River Park          2794   \n",
              "2                                                  NaN          2992   \n",
              "3         PA Fish & Boat;Frankford Arsenal Boat Launch          3090   \n",
              "4    Orthodox Street Parcel; Bridesburg Riverfront ...          3091   \n",
              "..                                                 ...           ...   \n",
              "505                              Swenson Park, Conwell          1923   \n",
              "506                                        The Parkway          1226   \n",
              "507  Rob Stuart Memorial Dog Park; Winter Street Gr...             0   \n",
              "508                                                             3481   \n",
              "509                            Lawrence Court Walkways          3867   \n",
              "\n",
              "            ADDRESS_911  ZIP_CODE  ... PPR_DISTRICT PPR_OPS_DISTRICT  \\\n",
              "0        400 S TANEY ST     19146  ...          NaN             5, 7   \n",
              "1        400 S TANEY ST     19103  ...          NaN             5, 7   \n",
              "2        400 S TANEY ST     19146  ...          NaN             5, 7   \n",
              "3        5625 TACONY ST     19137  ...          NaN                2   \n",
              "4      3101 ORTHODOX ST     19137  ...          NaN                2   \n",
              "..                  ...       ...  ...          ...              ...   \n",
              "505   9949 PRESIDENT ST     19115  ...          NaN                1   \n",
              "506   BENJ FRANKLIN PKY         0  ...          NaN                5   \n",
              "507   BENJ FRANKLIN PKY         0  ...          NaN                5   \n",
              "508  61ST & COBBS CREEK     19143  ...          NaN                8   \n",
              "509     335 LAWRENCE CT     19106  ...          NaN                5   \n",
              "\n",
              "     COUNCIL_DISTRICT POLICE_DISTRICT CITY_SCALE_MAPS  LOCAL_SCALE_MAPS  \\\n",
              "0                   2               9               Y                 Y   \n",
              "1                2, 5           9, 17               Y                 Y   \n",
              "2                   2               9               Y                 Y   \n",
              "3                   6              15               Y                 Y   \n",
              "4                   6              15               N                 N   \n",
              "..                ...             ...             ...               ...   \n",
              "505                10               7               Y                 Y   \n",
              "506                 5               9               Y                 Y   \n",
              "507                 5               9               N                 Y   \n",
              "508                 3              18               Y                 Y   \n",
              "509                 1               6               N                 Y   \n",
              "\n",
              "    PROGRAM_SITES                                           COMMENTS  \\\n",
              "0               Y                                                NaN   \n",
              "1               N    Bill 160113 (4/14/16) -South of South St Bridge   \n",
              "2               Y                                                NaN   \n",
              "3               N                                                NaN   \n",
              "4               N  Officially acquired from PAID in 10/2019. Doc ...   \n",
              "..            ...                                                ...   \n",
              "505             Y                                                NaN   \n",
              "506             N  22nd and Hamilton 'wedge' added (Street Legal ...   \n",
              "507             N  Named in 2021. Winter (21st-22nd) has a dog pa...   \n",
              "508             Y                                                NaN   \n",
              "509             N                                                NaN   \n",
              "\n",
              "       Shape__Area Shape__Length  \n",
              "0     23295.664062    892.868012  \n",
              "1    101477.171875   9300.670275  \n",
              "2     27216.929688    799.048584  \n",
              "3     78515.335938   1585.376114  \n",
              "4     72926.187500   1304.901416  \n",
              "..             ...           ...  \n",
              "505  139660.027344   1698.902277  \n",
              "506  103066.453125   9195.466911  \n",
              "507    5386.812500    679.857371  \n",
              "508   35596.937500   1037.395645  \n",
              "509    1945.863281    394.259401  \n",
              "\n",
              "[510 rows x 25 columns]>"
            ]
          },
          "metadata": {},
          "execution_count": 39
        }
      ]
    },
    {
      "cell_type": "code",
      "source": [
        "meanps = pparks['ACREAGE'].mean()\n"
      ],
      "metadata": {
        "id": "Q4UZhRzuxXPh"
      },
      "execution_count": 40,
      "outputs": []
    },
    {
      "cell_type": "code",
      "source": [
        "# show the mean and median sizes of the dataframe \n",
        "# are they the same? \n",
        "\n",
        "\n",
        "# Printing the mean and median\n",
        "\n",
        "The Mean= 19.619205270754357\n",
        "The Median= 3.37914443\n"
      ],
      "metadata": {
        "colab": {
          "base_uri": "https://localhost:8080/",
          "height": 131
        },
        "id": "rsB_28RGyMkO",
        "outputId": "21f73dae-a041-4b7f-e335-41b305f0eda7"
      },
      "execution_count": 44,
      "outputs": [
        {
          "output_type": "error",
          "ename": "SyntaxError",
          "evalue": "ignored",
          "traceback": [
            "\u001b[0;36m  File \u001b[0;32m\"<ipython-input-44-6ac9c3077887>\"\u001b[0;36m, line \u001b[0;32m7\u001b[0m\n\u001b[0;31m    The Mean= 19.619205270754357\u001b[0m\n\u001b[0m        ^\u001b[0m\n\u001b[0;31mSyntaxError\u001b[0m\u001b[0;31m:\u001b[0m invalid syntax\n"
          ]
        }
      ]
    },
    {
      "cell_type": "code",
      "source": [
        "# visualize a histogram of the park size. \n",
        "# you can use the method of the ACREAGE column .hist()\n",
        "# choose an appropriate number of bins with the argument bins=\n",
        "# overplot on the histogram the mean and the median of the distribution\n",
        "\n",
        "\n",
        "\n",
        "#to get the legend to render pass to axvline the argument label=\"...\" with ... being whatever you want displayed"
      ],
      "metadata": {
        "id": "aGjthsEFydQ3"
      },
      "execution_count": 45,
      "outputs": []
    },
    {
      "cell_type": "code",
      "source": [
        "mean_wage=wage.mean()"
      ],
      "metadata": {
        "colab": {
          "base_uri": "https://localhost:8080/",
          "height": 166
        },
        "id": "tMDeRlDvypCy",
        "outputId": "a09a15ea-d29b-48a2-f8cc-4f01cc0927eb"
      },
      "execution_count": 46,
      "outputs": [
        {
          "output_type": "error",
          "ename": "NameError",
          "evalue": "ignored",
          "traceback": [
            "\u001b[0;31m---------------------------------------------------------------------------\u001b[0m",
            "\u001b[0;31mNameError\u001b[0m                                 Traceback (most recent call last)",
            "\u001b[0;32m<ipython-input-46-e32f652dabd0>\u001b[0m in \u001b[0;36m<module>\u001b[0;34m\u001b[0m\n\u001b[0;32m----> 1\u001b[0;31m \u001b[0mmean_wage\u001b[0m\u001b[0;34m=\u001b[0m\u001b[0mwage\u001b[0m\u001b[0;34m.\u001b[0m\u001b[0mmean\u001b[0m\u001b[0;34m(\u001b[0m\u001b[0;34m)\u001b[0m\u001b[0;34m\u001b[0m\u001b[0;34m\u001b[0m\u001b[0m\n\u001b[0m",
            "\u001b[0;31mNameError\u001b[0m: name 'wage' is not defined"
          ]
        }
      ]
    },
    {
      "cell_type": "code",
      "source": [
        "#how to simplify\n",
        "mean_wage=round(wage.mean(),4)=4=.0000"
      ],
      "metadata": {
        "colab": {
          "base_uri": "https://localhost:8080/",
          "height": 131
        },
        "id": "M099EKySy2V2",
        "outputId": "b8884a8c-1565-4692-bdb6-2cbcfa81b5c4"
      },
      "execution_count": 47,
      "outputs": [
        {
          "output_type": "error",
          "ename": "SyntaxError",
          "evalue": "ignored",
          "traceback": [
            "\u001b[0;36m  File \u001b[0;32m\"<ipython-input-47-6803a4cb16d3>\"\u001b[0;36m, line \u001b[0;32m2\u001b[0m\n\u001b[0;31m    mean_wage=round(wage.mean(),4)=4=.0000\u001b[0m\n\u001b[0m              ^\u001b[0m\n\u001b[0;31mSyntaxError\u001b[0m\u001b[0;31m:\u001b[0m cannot assign to function call\n"
          ]
        }
      ]
    },
    {
      "cell_type": "code",
      "source": [
        "# The mean, median, and mode will all be in the same column now\n",
        "mode_wage=round(wage.mode(),4)\n",
        "median_wage=round(wage.Median(),4)"
      ],
      "metadata": {
        "colab": {
          "base_uri": "https://localhost:8080/",
          "height": 201
        },
        "id": "x7UL7bCQzKz6",
        "outputId": "c9ed5067-e5e7-4cc9-e73a-511671bcc274"
      },
      "execution_count": 49,
      "outputs": [
        {
          "output_type": "error",
          "ename": "NameError",
          "evalue": "ignored",
          "traceback": [
            "\u001b[0;31m---------------------------------------------------------------------------\u001b[0m",
            "\u001b[0;31mNameError\u001b[0m                                 Traceback (most recent call last)",
            "\u001b[0;32m<ipython-input-49-4788433fd05f>\u001b[0m in \u001b[0;36m<module>\u001b[0;34m\u001b[0m\n\u001b[1;32m      1\u001b[0m \u001b[0;31m# The mean, median, and mode will all be in the same column now\u001b[0m\u001b[0;34m\u001b[0m\u001b[0;34m\u001b[0m\u001b[0;34m\u001b[0m\u001b[0m\n\u001b[0;32m----> 2\u001b[0;31m \u001b[0mmode_wage\u001b[0m\u001b[0;34m=\u001b[0m\u001b[0mround\u001b[0m\u001b[0;34m(\u001b[0m\u001b[0mwage\u001b[0m\u001b[0;34m.\u001b[0m\u001b[0mmode\u001b[0m\u001b[0;34m(\u001b[0m\u001b[0;34m)\u001b[0m\u001b[0;34m,\u001b[0m\u001b[0;36m4\u001b[0m\u001b[0;34m)\u001b[0m\u001b[0;34m\u001b[0m\u001b[0;34m\u001b[0m\u001b[0m\n\u001b[0m\u001b[1;32m      3\u001b[0m \u001b[0mmedian_wage\u001b[0m\u001b[0;34m=\u001b[0m\u001b[0mround\u001b[0m\u001b[0;34m(\u001b[0m\u001b[0mwage\u001b[0m\u001b[0;34m.\u001b[0m\u001b[0mMedian\u001b[0m\u001b[0;34m(\u001b[0m\u001b[0;34m)\u001b[0m\u001b[0;34m,\u001b[0m\u001b[0;36m4\u001b[0m\u001b[0;34m)\u001b[0m\u001b[0;34m\u001b[0m\u001b[0;34m\u001b[0m\u001b[0m\n",
            "\u001b[0;31mNameError\u001b[0m: name 'wage' is not defined"
          ]
        }
      ]
    },
    {
      "cell_type": "code",
      "source": [
        "pparks{'age'}.max()"
      ],
      "metadata": {
        "colab": {
          "base_uri": "https://localhost:8080/",
          "height": 131
        },
        "id": "nWdB7emyzi52",
        "outputId": "77847154-2aaf-47e8-f6e9-a75c90dd4860"
      },
      "execution_count": 51,
      "outputs": [
        {
          "output_type": "error",
          "ename": "SyntaxError",
          "evalue": "ignored",
          "traceback": [
            "\u001b[0;36m  File \u001b[0;32m\"<ipython-input-51-a981f3315ea5>\"\u001b[0;36m, line \u001b[0;32m1\u001b[0m\n\u001b[0;31m    pparks{'age'}.max()\u001b[0m\n\u001b[0m          ^\u001b[0m\n\u001b[0;31mSyntaxError\u001b[0m\u001b[0;31m:\u001b[0m invalid syntax\n"
          ]
        }
      ]
    },
    {
      "cell_type": "code",
      "source": [
        "ax=data['age'].hist(bins=20)"
      ],
      "metadata": {
        "colab": {
          "base_uri": "https://localhost:8080/",
          "height": 166
        },
        "id": "JiM5eeltz97k",
        "outputId": "95128974-4ad8-4970-d37a-b9790149bd33"
      },
      "execution_count": 52,
      "outputs": [
        {
          "output_type": "error",
          "ename": "NameError",
          "evalue": "ignored",
          "traceback": [
            "\u001b[0;31m---------------------------------------------------------------------------\u001b[0m",
            "\u001b[0;31mNameError\u001b[0m                                 Traceback (most recent call last)",
            "\u001b[0;32m<ipython-input-52-94551c1167cb>\u001b[0m in \u001b[0;36m<module>\u001b[0;34m\u001b[0m\n\u001b[0;32m----> 1\u001b[0;31m \u001b[0max\u001b[0m\u001b[0;34m=\u001b[0m\u001b[0mdata\u001b[0m\u001b[0;34m[\u001b[0m\u001b[0;34m'age'\u001b[0m\u001b[0;34m]\u001b[0m\u001b[0;34m.\u001b[0m\u001b[0mhist\u001b[0m\u001b[0;34m(\u001b[0m\u001b[0mbins\u001b[0m\u001b[0;34m=\u001b[0m\u001b[0;36m20\u001b[0m\u001b[0;34m)\u001b[0m\u001b[0;34m\u001b[0m\u001b[0;34m\u001b[0m\u001b[0m\n\u001b[0m",
            "\u001b[0;31mNameError\u001b[0m: name 'data' is not defined"
          ]
        }
      ]
    }
  ]
}